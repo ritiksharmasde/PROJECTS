{
 "cells": [
  {
   "cell_type": "code",
   "execution_count": 1,
   "id": "5fbd52db-c9f7-449d-ae39-6a3e10b69733",
   "metadata": {},
   "outputs": [
    {
     "name": "stdout",
     "output_type": "stream",
     "text": [
      "uploaded the screen of command line and outputs\n",
      "Question 1\n",
      "Ritik sharma \n",
      " MCA B5\n",
      "Question 2\n"
     ]
    },
    {
     "name": "stdin",
     "output_type": "stream",
     "text": [
      "enter the first name  RITIK \n",
      "enter the second name  SHARMA\n"
     ]
    },
    {
     "name": "stdout",
     "output_type": "stream",
     "text": [
      "AMRAHS  KITIR\n",
      "Question 3\n"
     ]
    },
    {
     "name": "stdin",
     "output_type": "stream",
     "text": [
      "Enter a number:  3\n"
     ]
    },
    {
     "name": "stdout",
     "output_type": "stream",
     "text": [
      "Question 4\n",
      "Integer: 3\n",
      "Float: 3.0\n",
      "Complex: (3+0j)\n",
      "Question 5\n"
     ]
    },
    {
     "name": "stdin",
     "output_type": "stream",
     "text": [
      "Enter the lenght of rectangle :  2\n",
      "Enter the width of rectangle :  5\n"
     ]
    },
    {
     "name": "stdout",
     "output_type": "stream",
     "text": [
      "The area is 10.00\n",
      "Question 6\n"
     ]
    },
    {
     "name": "stdin",
     "output_type": "stream",
     "text": [
      "enter the first number : 1\n",
      "enter the second number : 2\n",
      "enter the third number : 5\n"
     ]
    },
    {
     "name": "stdout",
     "output_type": "stream",
     "text": [
      "The average of given number is 2.67\n",
      "Question 7\n"
     ]
    },
    {
     "name": "stdin",
     "output_type": "stream",
     "text": [
      "Enter the value (type -1 to exit):  5\n"
     ]
    },
    {
     "name": "stdout",
     "output_type": "stream",
     "text": [
      "Positive\n"
     ]
    },
    {
     "name": "stdin",
     "output_type": "stream",
     "text": [
      "Enter the value (type -1 to exit):  3\n"
     ]
    },
    {
     "name": "stdout",
     "output_type": "stream",
     "text": [
      "Positive\n"
     ]
    },
    {
     "name": "stdin",
     "output_type": "stream",
     "text": [
      "Enter the value (type -1 to exit):  6\n"
     ]
    },
    {
     "name": "stdout",
     "output_type": "stream",
     "text": [
      "Positive\n"
     ]
    },
    {
     "name": "stdin",
     "output_type": "stream",
     "text": [
      "Enter the value (type -1 to exit):  -1\n"
     ]
    },
    {
     "name": "stdout",
     "output_type": "stream",
     "text": [
      "Question 8\n"
     ]
    },
    {
     "name": "stdin",
     "output_type": "stream",
     "text": [
      "Enter the first value : 5\n",
      "Enter the  second value : 3\n"
     ]
    },
    {
     "name": "stdout",
     "output_type": "stream",
     "text": [
      "both are odd\n",
      "Question 9\n"
     ]
    },
    {
     "name": "stdin",
     "output_type": "stream",
     "text": [
      "Enter an integer:  5\n"
     ]
    },
    {
     "name": "stdout",
     "output_type": "stream",
     "text": [
      "Binary: 101\n",
      "Hexadecimal: 5\n",
      "Octal: 5\n"
     ]
    }
   ],
   "source": [
    "print(\"uploaded the screen of command line and outputs\") \n",
    "# # part 1 question 1\n",
    "print(\"Question 1\")\n",
    "print(\"Ritik sharma \\n MCA B5\")\n",
    "\n",
    "\n",
    "# import string\n",
    "print(\"Question 2\")\n",
    "str1=input(\"enter the first name \")\n",
    "str2=input(\"enter the second name \")\n",
    "print((str2[::-1] + \" \"+ str1[::-1]))\n",
    "\n",
    "# Take input from the user\n",
    "print(\"Question 3\")\n",
    "user_input = input(\"Enter a number: \")\n",
    "\n",
    "# Print the input in different data types\n",
    "print(\"Question 4\")\n",
    "print(\"Integer:\", int(user_input))\n",
    "print(\"Float:\", float(user_input))\n",
    "print(\"Complex:\", complex(user_input))\n",
    "\n",
    "\n",
    "\n",
    "\n",
    "# area of rectangle\n",
    "print(\"Question 5\")\n",
    "length=float(input(\"Enter the lenght of rectangle : \"))\n",
    "width=float(input(\"Enter the width of rectangle : \"))\n",
    "area=length*width\n",
    "# using format \n",
    "print(f\"The area is {area:.2f}\")\n",
    "\n",
    "\n",
    "# average of 3 numbers\n",
    "print(\"Question 6\")\n",
    "num1=float(input(\"enter the first number :\"))\n",
    "\n",
    "num2=float(input(\"enter the second number :\"))\n",
    "\n",
    "num3=float(input(\"enter the third number :\"))\n",
    "\n",
    "avg=(num1+num2+num3)/3\n",
    "print(\"The average of given number is %.2f\" %avg)\n",
    "\n",
    "# conditional and loop statement\n",
    "print(\"Question 7\")\n",
    "while True:\n",
    "    val = int(input(\"Enter the value (type -1 to exit): \"))\n",
    "    \n",
    "    if val == -1:  # Exit condition, you can change -1 to any number you want as an exit signal\n",
    "        break\n",
    "    \n",
    "\n",
    "        continue\n",
    "    \n",
    "    elif val > 0:\n",
    "        print(\"Positive\")\n",
    "        \n",
    "    elif val < 0:\n",
    "        print(\"Negative\")\n",
    "        \n",
    "    elif val == 0:\n",
    "        print(\"Zero\")\n",
    "    else:\n",
    "        continue\n",
    "\n",
    "\n",
    "# # odd even numbers \n",
    "print(\"Question 8\")\n",
    "val1 = int(input(\"Enter the first value :\"))\n",
    "                 \n",
    "val2 = int(input(\"Enter the  second value :\"))\n",
    "        \n",
    "if(val1%2==0 and val2%2==0):\n",
    "    print(\"both are even\")\n",
    "\n",
    "elif(val1%2!=0 and val2%2!=0):\n",
    "    print(\"both are odd\")\n",
    "elif(val1%2!=0 or val2%2!=0):\n",
    "    print(\"each one of them is odd\")\n",
    "\n",
    "#  value in different number systems\n",
    "# Take integer input from the user\n",
    "print(\"Question 9\")\n",
    "num = int(input(\"Enter an integer: \"))\n",
    "\n",
    "# List of formats to convert the number into\n",
    "formats = [('Binary', bin), ('Hexadecimal', hex), ('Octal', oct)]\n",
    "\n",
    "# Loop through each format and print the result\n",
    "for name, func in formats:\n",
    "    print(f\"{name}: {func(num)[2:].upper()}\")"
   ]
  },
  {
   "cell_type": "markdown",
   "id": "2eca91cd-cb8b-4498-8b78-6af146394994",
   "metadata": {},
   "source": [
    "\n",
    "![label](./2.png)\n",
    "![label](./3.png)"
   ]
  },
  {
   "cell_type": "code",
   "execution_count": 2,
   "id": "705990d7-d5f1-44d4-af29-d64a09c20551",
   "metadata": {},
   "outputs": [
    {
     "name": "stderr",
     "output_type": "stream",
     "text": [
      "'[label]' is not recognized as an internal or external command,\n",
      "operable program or batch file.\n"
     ]
    }
   ],
   "source": [
    "![label](./3.png)"
   ]
  },
  {
   "cell_type": "markdown",
   "id": "8abe3d28-5256-4db1-b099-36affd3a1012",
   "metadata": {},
   "source": []
  },
  {
   "cell_type": "markdown",
   "id": "e6d0739e-d7a7-4953-a03d-51294c59275e",
   "metadata": {},
   "source": [
    "![label](./3.png)"
   ]
  },
  {
   "cell_type": "code",
   "execution_count": null,
   "id": "822b46d0-bbb2-428d-bb23-811e8de288fc",
   "metadata": {},
   "outputs": [],
   "source": []
  }
 ],
 "metadata": {
  "kernelspec": {
   "display_name": "Python 3 (ipykernel)",
   "language": "python",
   "name": "python3"
  },
  "language_info": {
   "codemirror_mode": {
    "name": "ipython",
    "version": 3
   },
   "file_extension": ".py",
   "mimetype": "text/x-python",
   "name": "python",
   "nbconvert_exporter": "python",
   "pygments_lexer": "ipython3",
   "version": "3.11.5"
  }
 },
 "nbformat": 4,
 "nbformat_minor": 5
}
