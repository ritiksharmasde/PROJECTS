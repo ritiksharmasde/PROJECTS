{
  "cells": [
    {
      "cell_type": "markdown",
      "metadata": {
        "id": "view-in-github",
        "colab_type": "text"
      },
      "source": [
        "<a href=\"https://colab.research.google.com/github/ritiksharmasde/PROJECTS/blob/main/data_maniplution.ipynb\" target=\"_parent\"><img src=\"https://colab.research.google.com/assets/colab-badge.svg\" alt=\"Open In Colab\"/></a>"
      ]
    },
    {
      "cell_type": "code",
      "execution_count": null,
      "metadata": {
        "id": "_lyhg-KfaUMc"
      },
      "outputs": [],
      "source": [
        "import numpy as np\n",
        "import pandas as pd\n",
        "import sklearn\n",
        "import matplotlib.pyplot as plt\n",
        "import seaborn as sns\n"
      ]
    },
    {
      "cell_type": "code",
      "execution_count": null,
      "metadata": {
        "colab": {
          "base_uri": "https://localhost:8080/"
        },
        "id": "dVUM3x_obtid",
        "outputId": "8ca3566c-6eb7-48c4-dc74-fdf2695766f2"
      },
      "outputs": [
        {
          "name": "stdout",
          "output_type": "stream",
          "text": [
            "   num_preg  plasma_glucose_conc  bp  tricepsthickness  insulin   BMI  \\\n",
            "0         6                  148  72                35        0  33.6   \n",
            "1         1                   85  66                29        0  26.6   \n",
            "2         8                  183  64                 0        0  23.3   \n",
            "3         1                   89  66                23       94  28.1   \n",
            "4         0                  137  40                35      168  43.1   \n",
            "\n",
            "   pedigree_func  age           target  \n",
            "0          0.627   50  tested_positive  \n",
            "1          0.351   31  tested_negative  \n",
            "2          0.672   32  tested_positive  \n",
            "3          0.167   21  tested_negative  \n",
            "4          2.288   33  tested_positive  \n"
          ]
        }
      ],
      "source": [
        "df = pd.read_csv(\"diabetesData.csv\")\n",
        "print(df.head())\n",
        "\n"
      ]
    },
    {
      "cell_type": "code",
      "execution_count": null,
      "metadata": {
        "colab": {
          "base_uri": "https://localhost:8080/"
        },
        "id": "wtD5an-vfBQn",
        "outputId": "0da3a6d2-f89f-4532-d3b8-7262bc51b7c2"
      },
      "outputs": [
        {
          "name": "stdout",
          "output_type": "stream",
          "text": [
            "    BMI           target\n",
            "0  33.6  tested_positive\n",
            "1  26.6  tested_negative\n",
            "2  23.3  tested_positive\n",
            "3  28.1  tested_negative\n",
            "4  43.1  tested_positive\n"
          ]
        }
      ],
      "source": [
        "df_new = df.drop(columns=[\"num_preg\", \"plasma_glucose_conc\",\"bp\",\"tricepsthickness\",\"insulin\",\"pedigree_func\",\"age\"])\n",
        "print(df_new.head())\n",
        "\n"
      ]
    },
    {
      "cell_type": "code",
      "execution_count": null,
      "metadata": {
        "colab": {
          "base_uri": "https://localhost:8080/"
        },
        "id": "iQ4xG6qXflrY",
        "outputId": "ea0bc386-aed4-4044-fc03-9d6967762950"
      },
      "outputs": [
        {
          "name": "stdout",
          "output_type": "stream",
          "text": [
            "768\n"
          ]
        }
      ],
      "source": [
        "print(df_new.shape[0])"
      ]
    },
    {
      "cell_type": "code",
      "execution_count": null,
      "metadata": {
        "id": "uj4eI1NPf7iM"
      },
      "outputs": [],
      "source": [
        "df_new=df_new.iloc[:-500]"
      ]
    },
    {
      "cell_type": "code",
      "execution_count": null,
      "metadata": {
        "colab": {
          "base_uri": "https://localhost:8080/"
        },
        "id": "SeBdc5mMgIxR",
        "outputId": "a1bd165f-33fb-4d79-e535-1b0b9ce03432"
      },
      "outputs": [
        {
          "name": "stdout",
          "output_type": "stream",
          "text": [
            "268\n"
          ]
        }
      ],
      "source": [
        "print(df_new.shape[0])"
      ]
    },
    {
      "cell_type": "code",
      "execution_count": null,
      "metadata": {
        "id": "B3azyI5WgRct"
      },
      "outputs": [],
      "source": []
    },
    {
      "cell_type": "code",
      "execution_count": null,
      "metadata": {
        "colab": {
          "base_uri": "https://localhost:8080/"
        },
        "id": "yMwLXeiPgPW9",
        "outputId": "8235de5b-e0d1-4217-f49a-2c43c609ee7e"
      },
      "outputs": [
        {
          "name": "stdout",
          "output_type": "stream",
          "text": [
            "    BMI           target\n",
            "0  33.6  tested_positive\n",
            "1  26.6  tested_negative\n",
            "2  23.3  tested_positive\n",
            "3  28.1  tested_negative\n",
            "4  43.1  tested_positive\n"
          ]
        }
      ],
      "source": [
        "print(df_new.head())"
      ]
    },
    {
      "cell_type": "code",
      "execution_count": null,
      "metadata": {
        "colab": {
          "background_save": true
        },
        "id": "GF9tD7enhAoM",
        "outputId": "22cf03df-485c-4670-eb89-a20648b3302e"
      },
      "outputs": [
        {
          "name": "stdout",
          "output_type": "stream",
          "text": [
            "268\n"
          ]
        }
      ],
      "source": [
        "print(df_new.shape[0])"
      ]
    },
    {
      "cell_type": "code",
      "execution_count": null,
      "metadata": {
        "id": "lc2OrG3wgUOp"
      },
      "outputs": [],
      "source": [
        "X, y = df_new.BMI, df_new.target\n",
        "\n"
      ]
    }
  ],
  "metadata": {
    "colab": {
      "provenance": [],
      "authorship_tag": "ABX9TyNKhXLBup51kWS13t3sANYs",
      "include_colab_link": true
    },
    "kernelspec": {
      "display_name": "Python 3",
      "name": "python3"
    },
    "language_info": {
      "name": "python"
    }
  },
  "nbformat": 4,
  "nbformat_minor": 0
}