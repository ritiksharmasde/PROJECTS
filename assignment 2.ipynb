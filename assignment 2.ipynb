{
 "cells": [
  {
   "cell_type": "code",
   "execution_count": 3,
   "id": "e5afc338-8f5a-4bfd-842b-345443df686e",
   "metadata": {},
   "outputs": [
    {
     "name": "stdout",
     "output_type": "stream",
     "text": [
      "hi hrithik\n"
     ]
    }
   ],
   "source": [
    "\n",
    "#Question 1\n",
    "def greet(name,string =\"hello\"):\n",
    "    print(f\"{string} {name}\")\n",
    "\n",
    "greet(\"hrithik\",\"hi\")"
   ]
  },
  {
   "cell_type": "code",
   "execution_count": 2,
   "id": "05f769f7-7f69-4b22-9fa2-1d99b6b5fce7",
   "metadata": {},
   "outputs": [
    {
     "name": "stdout",
     "output_type": "stream",
     "text": [
      "name:ritik and city:mzn and age :18\n"
     ]
    }
   ],
   "source": [
    "#Question 2\n",
    "def create_profile(name,city, age=\"18\"):\n",
    "    print(f\"name:{name} and city:{city} and age :{age}\")\n",
    "\n",
    "create_profile(\"ritik\",\"mzn\")"
   ]
  },
  {
   "cell_type": "code",
   "execution_count": 1,
   "id": "9707ee7c-59d3-4823-b530-42c46fdbec2d",
   "metadata": {},
   "outputs": [
    {
     "name": "stdout",
     "output_type": "stream",
     "text": [
      "(6.5, {})\n"
     ]
    }
   ],
   "source": [
    "#Question 3:\n",
    "def sum_numbers(*args, **kwargs):\n",
    "   \n",
    "    total = 0\n",
    "\n",
    "    \n",
    "    for arg in args:\n",
    "        \n",
    "        if isinstance(arg, (int, float)):\n",
    "            total += arg \n",
    "\n",
    "    \n",
    "    return total, kwargs\n",
    "\n",
    "\n",
    "result = sum_numbers(1, 2, 3.5)\n",
    "print(result) \n",
    "\n",
    "    \n",
    "    "
   ]
  },
  {
   "cell_type": "code",
   "execution_count": 3,
   "id": "c3b55397-7c0d-4f56-b33e-3c392cd13380",
   "metadata": {},
   "outputs": [
    {
     "name": "stdout",
     "output_type": "stream",
     "text": [
      "[1, 4, 9, 16]\n"
     ]
    }
   ],
   "source": [
    "# Question 4\n",
    "def square_list(numbers):\n",
    "    \n",
    "    return list(map(lambda x: x**2, numbers))\n",
    "\n",
    "result = square_list([1, 2, 3, 4])\n",
    "print(result)  \n"
   ]
  },
  {
   "cell_type": "code",
   "execution_count": 4,
   "id": "df147088-fb7d-420e-9b0c-b3204390e7c5",
   "metadata": {},
   "outputs": [
    {
     "name": "stdout",
     "output_type": "stream",
     "text": [
      "[2, 4]\n"
     ]
    }
   ],
   "source": [
    "# question 5\n",
    "def filter_odd_numbers(numbers):\n",
    "    return list(filter(lambda x: x % 2 == 0, numbers))\n",
    "\n",
    "numbers = [1, 2, 3, 4, 5]\n",
    "result = filter_odd_numbers(numbers)\n",
    "print(result) "
   ]
  },
  {
   "cell_type": "code",
   "execution_count": 5,
   "id": "e5eedfbe-d0ad-4abb-8cf3-528902ec8f0b",
   "metadata": {},
   "outputs": [
    {
     "name": "stdout",
     "output_type": "stream",
     "text": [
      "[1, 4, 9, 16, 25]\n"
     ]
    }
   ],
   "source": [
    "# question 6\n",
    "def square_elements(numbers):\n",
    "    return [x**2 for x in numbers]\n",
    "\n",
    "numbers = [1, 2, 3, 4, 5]\n",
    "result = square_elements(numbers)\n",
    "print(result)"
   ]
  },
  {
   "cell_type": "code",
   "execution_count": 6,
   "id": "685bfefd-13c3-4fc6-bce6-5b156e7ad66f",
   "metadata": {},
   "outputs": [
    {
     "name": "stdout",
     "output_type": "stream",
     "text": [
      "[2, 4, 6, 8, 10, 12, 14, 16, 18, 20]\n"
     ]
    }
   ],
   "source": [
    "# /quesiton 7\n",
    "def generate_even_numbers():\n",
    "    return [x for x in range(1, 21) if x % 2 == 0]\n",
    "\n",
    "even_numbers = generate_even_numbers()\n",
    "print(even_numbers)  "
   ]
  },
  {
   "cell_type": "code",
   "execution_count": 7,
   "id": "b0be7122-7de7-4875-b71d-753f3651e161",
   "metadata": {},
   "outputs": [
    {
     "name": "stdout",
     "output_type": "stream",
     "text": [
      "Directory 'test_folder' created.\n",
      "Pausing for 3 seconds...\n",
      "Directory 'test_folder' deleted.\n"
     ]
    }
   ],
   "source": [
    "# question 8\n",
    "import os\n",
    "import time\n",
    "\n",
    "def file_operations():\n",
    "\n",
    "        os.makedirs(\"test_folder\")\n",
    "        print(\"Directory 'test_folder' created.\")\n",
    "\n",
    "        time.sleep(3)\n",
    "        print(\"Pausing for 3 seconds...\")\n",
    "\n",
    "        os.rmdir(\"test_folder\")\n",
    "        print(\"Directory 'test_folder' deleted.\")\n",
    "\n",
    "file_operations()\n"
   ]
  },
  {
   "cell_type": "code",
   "execution_count": 8,
   "id": "4c2884a1-0335-4113-8567-995bb106629b",
   "metadata": {},
   "outputs": [
    {
     "name": "stdout",
     "output_type": "stream",
     "text": [
      "Paused execution...\n"
     ]
    }
   ],
   "source": [
    "# question 9\n",
    "from time import sleep as pause\n",
    "pause(2)  \n",
    "print(\"Paused execution...\")"
   ]
  },
  {
   "cell_type": "code",
   "execution_count": null,
   "id": "6e0ba8d0-d399-46e1-900a-0fa02eb39051",
   "metadata": {},
   "outputs": [],
   "source": [
    "# question 10\n",
    "def flatten_list(nested_list):\n",
    "    flattened = []\n",
    "    for item in nested_list:\n",
    "        if isinstance(item, list):\n",
    "            flattened.extend(flatten_list(item))\n",
    "        else:\n",
    "            flattened.append(item)\n",
    "    return flattened\n",
    "\n",
    "# Example usage:\n",
    "nested_list1 = [[1, 2], [3, [4, [5]]]]\n",
    "flattened_list1 = flatten_list(nested_list1)\n",
    "print(flattened_list1)  # Output: [1, 2, 3, 4, 5]\n",
    "\n",
    "nested_list2 = [[1, 2, 3], [4, 5, 6]]\n",
    "flattened_list2 = flatten_list(nested_list2)\n",
    "print(flattened_list2)  # Output: [1, 2, 3, 4, 5, 6]"
   ]
  }
 ],
 "metadata": {
  "kernelspec": {
   "display_name": "Python 3 (ipykernel)",
   "language": "python",
   "name": "python3"
  },
  "language_info": {
   "codemirror_mode": {
    "name": "ipython",
    "version": 3
   },
   "file_extension": ".py",
   "mimetype": "text/x-python",
   "name": "python",
   "nbconvert_exporter": "python",
   "pygments_lexer": "ipython3",
   "version": "3.11.5"
  }
 },
 "nbformat": 4,
 "nbformat_minor": 5
}
